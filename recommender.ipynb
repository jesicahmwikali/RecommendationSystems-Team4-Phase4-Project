{
 "cells": [
  {
   "cell_type": "markdown",
   "id": "ed334c9b",
   "metadata": {},
   "source": [
    "# Recommendation System For Top 5 Movies\n",
    "\n",
    "## Team 4 - Phase Four Project"
   ]
  },
  {
   "cell_type": "markdown",
   "id": "96e6a87e",
   "metadata": {},
   "source": [
    "### Authors:\n",
    "1. Hellen Mwaniki\n",
    "2. Jesicah Mutiso\n",
    "3. Endalkachew Dessalegne\n",
    "4. Brian Waweru\n",
    "   "
   ]
  },
  {
   "cell_type": "markdown",
   "id": "6a378a41",
   "metadata": {},
   "source": [
    "## 1. Project Overview"
   ]
  },
  {
   "cell_type": "markdown",
   "id": "f5402c37",
   "metadata": {},
   "source": [
    "A new movie streaming startup, aims to offer a highly personalized viewing experience to differentiate itself in a crowded market. One of its core features is a movie recommendation system that helps users discover films they are likely to enjoy, based on their past preferences.To achieve this, the system uses both collaborative filtering and content-based filtering techniques to recommend the top 5 movies tailored to each user's preferences,whether they’re long-time users or just getting started.\n",
    " \n"
   ]
  },
  {
   "cell_type": "markdown",
   "id": "22d063cf",
   "metadata": {},
   "source": [
    "## 1.1. Business Understanding \n",
    "### 1.1.1 Business Problem \n"
   ]
  },
  {
   "cell_type": "markdown",
   "id": "de882434",
   "metadata": {},
   "source": [
    "In a highly competitive streaming market, retaining users is vital. The ability to accurately suggest content plays a huge role in user engagement. The company wants to implement a recommendation system that can:\n",
    "\n",
    "- Recommend Top 5 movies to returning users who have rated other movies.\n",
    "\n",
    "- Recommend Top 5 movies to new users with no past activity.\n",
    "\n",
    "These two problems reflect common industry challenges:\n",
    "\n",
    "- Personalization for known users\n",
    "\n",
    "- Cold Start handling for new users"
   ]
  },
  {
   "cell_type": "markdown",
   "id": "f814ffb7",
   "metadata": {},
   "source": [
    "### 1.1.2. Objectives"
   ]
  },
  {
   "cell_type": "markdown",
   "id": "54b41ef1",
   "metadata": {},
   "source": [
    "- Boost engagement by offering tailored movie suggestions.\n",
    "\n",
    "- Increase user retention through consistent, relevant recommendations.\n",
    "\n",
    "- Solve the \"cold start\" problem for new users with no ratings."
   ]
  },
  {
   "cell_type": "markdown",
   "id": "185a0c11",
   "metadata": {},
   "source": [
    "## 2. Data Understanding"
   ]
  },
  {
   "cell_type": "code",
   "execution_count": 262,
   "id": "83f59d79",
   "metadata": {},
   "outputs": [],
   "source": [
    "#import necessary libraries \n",
    "\n",
    "import pandas as pd\n",
    "import numpy as np\n",
    "from surprise import Dataset, Reader, SVD\n",
    "from sklearn.neighbors import NearestNeighbors\n",
    "from sklearn.feature_extraction.text import TfidfVectorizer\n",
    "from sklearn.metrics.pairwise import cosine_similarity \n",
    "from surprise.model_selection import train_test_split as surprise_split \n",
    "from sklearn.model_selection import train_test_split\n",
    "from surprise import accuracy\n",
    "import matplotlib.pyplot as plt\n",
    "import seaborn as sns\n",
    "\n"
   ]
  },
  {
   "cell_type": "markdown",
   "id": "9ecd3882-d973-4013-9c67-12121d7a6baa",
   "metadata": {},
   "source": [
    "### 2.1. Load Dataset"
   ]
  },
  {
   "cell_type": "code",
   "execution_count": 263,
   "id": "c37a8ff8",
   "metadata": {},
   "outputs": [
    {
     "data": {
      "text/html": [
       "<div>\n",
       "<style scoped>\n",
       "    .dataframe tbody tr th:only-of-type {\n",
       "        vertical-align: middle;\n",
       "    }\n",
       "\n",
       "    .dataframe tbody tr th {\n",
       "        vertical-align: top;\n",
       "    }\n",
       "\n",
       "    .dataframe thead th {\n",
       "        text-align: right;\n",
       "    }\n",
       "</style>\n",
       "<table border=\"1\" class=\"dataframe\">\n",
       "  <thead>\n",
       "    <tr style=\"text-align: right;\">\n",
       "      <th></th>\n",
       "      <th>movieId</th>\n",
       "      <th>title</th>\n",
       "      <th>genres</th>\n",
       "    </tr>\n",
       "  </thead>\n",
       "  <tbody>\n",
       "    <tr>\n",
       "      <th>0</th>\n",
       "      <td>1</td>\n",
       "      <td>Toy Story (1995)</td>\n",
       "      <td>Adventure|Animation|Children|Comedy|Fantasy</td>\n",
       "    </tr>\n",
       "    <tr>\n",
       "      <th>1</th>\n",
       "      <td>2</td>\n",
       "      <td>Jumanji (1995)</td>\n",
       "      <td>Adventure|Children|Fantasy</td>\n",
       "    </tr>\n",
       "    <tr>\n",
       "      <th>2</th>\n",
       "      <td>3</td>\n",
       "      <td>Grumpier Old Men (1995)</td>\n",
       "      <td>Comedy|Romance</td>\n",
       "    </tr>\n",
       "    <tr>\n",
       "      <th>3</th>\n",
       "      <td>4</td>\n",
       "      <td>Waiting to Exhale (1995)</td>\n",
       "      <td>Comedy|Drama|Romance</td>\n",
       "    </tr>\n",
       "    <tr>\n",
       "      <th>4</th>\n",
       "      <td>5</td>\n",
       "      <td>Father of the Bride Part II (1995)</td>\n",
       "      <td>Comedy</td>\n",
       "    </tr>\n",
       "  </tbody>\n",
       "</table>\n",
       "</div>"
      ],
      "text/plain": [
       "   movieId                               title  \\\n",
       "0        1                    Toy Story (1995)   \n",
       "1        2                      Jumanji (1995)   \n",
       "2        3             Grumpier Old Men (1995)   \n",
       "3        4            Waiting to Exhale (1995)   \n",
       "4        5  Father of the Bride Part II (1995)   \n",
       "\n",
       "                                        genres  \n",
       "0  Adventure|Animation|Children|Comedy|Fantasy  \n",
       "1                   Adventure|Children|Fantasy  \n",
       "2                               Comedy|Romance  \n",
       "3                         Comedy|Drama|Romance  \n",
       "4                                       Comedy  "
      ]
     },
     "execution_count": 263,
     "metadata": {},
     "output_type": "execute_result"
    }
   ],
   "source": [
    "# load movies dataset\n",
    "df_movies = pd.read_csv(\"data/movies.csv\")\n",
    "df_movies.head(5)"
   ]
  },
  {
   "cell_type": "code",
   "execution_count": 264,
   "id": "c81810c2",
   "metadata": {},
   "outputs": [
    {
     "data": {
      "text/html": [
       "<div>\n",
       "<style scoped>\n",
       "    .dataframe tbody tr th:only-of-type {\n",
       "        vertical-align: middle;\n",
       "    }\n",
       "\n",
       "    .dataframe tbody tr th {\n",
       "        vertical-align: top;\n",
       "    }\n",
       "\n",
       "    .dataframe thead th {\n",
       "        text-align: right;\n",
       "    }\n",
       "</style>\n",
       "<table border=\"1\" class=\"dataframe\">\n",
       "  <thead>\n",
       "    <tr style=\"text-align: right;\">\n",
       "      <th></th>\n",
       "      <th>userId</th>\n",
       "      <th>movieId</th>\n",
       "      <th>rating</th>\n",
       "      <th>timestamp</th>\n",
       "    </tr>\n",
       "  </thead>\n",
       "  <tbody>\n",
       "    <tr>\n",
       "      <th>0</th>\n",
       "      <td>1</td>\n",
       "      <td>1</td>\n",
       "      <td>4.0</td>\n",
       "      <td>964982703</td>\n",
       "    </tr>\n",
       "    <tr>\n",
       "      <th>1</th>\n",
       "      <td>1</td>\n",
       "      <td>3</td>\n",
       "      <td>4.0</td>\n",
       "      <td>964981247</td>\n",
       "    </tr>\n",
       "    <tr>\n",
       "      <th>2</th>\n",
       "      <td>1</td>\n",
       "      <td>6</td>\n",
       "      <td>4.0</td>\n",
       "      <td>964982224</td>\n",
       "    </tr>\n",
       "    <tr>\n",
       "      <th>3</th>\n",
       "      <td>1</td>\n",
       "      <td>47</td>\n",
       "      <td>5.0</td>\n",
       "      <td>964983815</td>\n",
       "    </tr>\n",
       "    <tr>\n",
       "      <th>4</th>\n",
       "      <td>1</td>\n",
       "      <td>50</td>\n",
       "      <td>5.0</td>\n",
       "      <td>964982931</td>\n",
       "    </tr>\n",
       "  </tbody>\n",
       "</table>\n",
       "</div>"
      ],
      "text/plain": [
       "   userId  movieId  rating  timestamp\n",
       "0       1        1     4.0  964982703\n",
       "1       1        3     4.0  964981247\n",
       "2       1        6     4.0  964982224\n",
       "3       1       47     5.0  964983815\n",
       "4       1       50     5.0  964982931"
      ]
     },
     "execution_count": 264,
     "metadata": {},
     "output_type": "execute_result"
    }
   ],
   "source": [
    "#load ratings dataset\n",
    "df_ratings = pd.read_csv(\"data/ratings.csv\") \n",
    "df_ratings.head(5)"
   ]
  },
  {
   "cell_type": "code",
   "execution_count": 265,
   "id": "e536f252",
   "metadata": {},
   "outputs": [
    {
     "name": "stdout",
     "output_type": "stream",
     "text": [
      "Movies_df: (9742, 3)\n",
      "Rating_df: (100836, 4)\n"
     ]
    }
   ],
   "source": [
    "#shape of df_movies and ddf_ratings\n",
    "print(f\"Movies_df: {df_movies.shape}\")\n",
    "print(f\"Rating_df: {df_ratings.shape}\")"
   ]
  },
  {
   "cell_type": "code",
   "execution_count": 266,
   "id": "9376e7f5-b815-49ee-bc3a-6e841fc7d557",
   "metadata": {},
   "outputs": [
    {
     "data": {
      "text/html": [
       "<div>\n",
       "<style scoped>\n",
       "    .dataframe tbody tr th:only-of-type {\n",
       "        vertical-align: middle;\n",
       "    }\n",
       "\n",
       "    .dataframe tbody tr th {\n",
       "        vertical-align: top;\n",
       "    }\n",
       "\n",
       "    .dataframe thead th {\n",
       "        text-align: right;\n",
       "    }\n",
       "</style>\n",
       "<table border=\"1\" class=\"dataframe\">\n",
       "  <thead>\n",
       "    <tr style=\"text-align: right;\">\n",
       "      <th></th>\n",
       "      <th>userId</th>\n",
       "      <th>movieId</th>\n",
       "      <th>rating</th>\n",
       "      <th>timestamp</th>\n",
       "      <th>title</th>\n",
       "      <th>genres</th>\n",
       "    </tr>\n",
       "  </thead>\n",
       "  <tbody>\n",
       "    <tr>\n",
       "      <th>0</th>\n",
       "      <td>1</td>\n",
       "      <td>1</td>\n",
       "      <td>4.0</td>\n",
       "      <td>964982703</td>\n",
       "      <td>Toy Story (1995)</td>\n",
       "      <td>Adventure|Animation|Children|Comedy|Fantasy</td>\n",
       "    </tr>\n",
       "    <tr>\n",
       "      <th>1</th>\n",
       "      <td>5</td>\n",
       "      <td>1</td>\n",
       "      <td>4.0</td>\n",
       "      <td>847434962</td>\n",
       "      <td>Toy Story (1995)</td>\n",
       "      <td>Adventure|Animation|Children|Comedy|Fantasy</td>\n",
       "    </tr>\n",
       "    <tr>\n",
       "      <th>2</th>\n",
       "      <td>7</td>\n",
       "      <td>1</td>\n",
       "      <td>4.5</td>\n",
       "      <td>1106635946</td>\n",
       "      <td>Toy Story (1995)</td>\n",
       "      <td>Adventure|Animation|Children|Comedy|Fantasy</td>\n",
       "    </tr>\n",
       "    <tr>\n",
       "      <th>3</th>\n",
       "      <td>15</td>\n",
       "      <td>1</td>\n",
       "      <td>2.5</td>\n",
       "      <td>1510577970</td>\n",
       "      <td>Toy Story (1995)</td>\n",
       "      <td>Adventure|Animation|Children|Comedy|Fantasy</td>\n",
       "    </tr>\n",
       "    <tr>\n",
       "      <th>4</th>\n",
       "      <td>17</td>\n",
       "      <td>1</td>\n",
       "      <td>4.5</td>\n",
       "      <td>1305696483</td>\n",
       "      <td>Toy Story (1995)</td>\n",
       "      <td>Adventure|Animation|Children|Comedy|Fantasy</td>\n",
       "    </tr>\n",
       "  </tbody>\n",
       "</table>\n",
       "</div>"
      ],
      "text/plain": [
       "   userId  movieId  rating   timestamp             title  \\\n",
       "0       1        1     4.0   964982703  Toy Story (1995)   \n",
       "1       5        1     4.0   847434962  Toy Story (1995)   \n",
       "2       7        1     4.5  1106635946  Toy Story (1995)   \n",
       "3      15        1     2.5  1510577970  Toy Story (1995)   \n",
       "4      17        1     4.5  1305696483  Toy Story (1995)   \n",
       "\n",
       "                                        genres  \n",
       "0  Adventure|Animation|Children|Comedy|Fantasy  \n",
       "1  Adventure|Animation|Children|Comedy|Fantasy  \n",
       "2  Adventure|Animation|Children|Comedy|Fantasy  \n",
       "3  Adventure|Animation|Children|Comedy|Fantasy  \n",
       "4  Adventure|Animation|Children|Comedy|Fantasy  "
      ]
     },
     "execution_count": 266,
     "metadata": {},
     "output_type": "execute_result"
    }
   ],
   "source": [
    "#merge movies and ratings dataset\n",
    "df = df_ratings.merge(df_movies, on=\"movieId\")\n",
    "df.head()"
   ]
  },
  {
   "cell_type": "code",
   "execution_count": 267,
   "id": "5499711e-c018-4adc-96ad-028703e14b03",
   "metadata": {},
   "outputs": [
    {
     "name": "stdout",
     "output_type": "stream",
     "text": [
      "Shape of df: (100836, 6)\n"
     ]
    }
   ],
   "source": [
    "#shape of merged df\n",
    "print(f\"Shape of df: {df.shape}\")"
   ]
  },
  {
   "cell_type": "code",
   "execution_count": 268,
   "id": "d2f53a59-9a17-4ed3-bac8-4a39917a4b07",
   "metadata": {},
   "outputs": [
    {
     "data": {
      "text/html": [
       "<div>\n",
       "<style scoped>\n",
       "    .dataframe tbody tr th:only-of-type {\n",
       "        vertical-align: middle;\n",
       "    }\n",
       "\n",
       "    .dataframe tbody tr th {\n",
       "        vertical-align: top;\n",
       "    }\n",
       "\n",
       "    .dataframe thead th {\n",
       "        text-align: right;\n",
       "    }\n",
       "</style>\n",
       "<table border=\"1\" class=\"dataframe\">\n",
       "  <thead>\n",
       "    <tr style=\"text-align: right;\">\n",
       "      <th></th>\n",
       "      <th>userId</th>\n",
       "      <th>movieId</th>\n",
       "      <th>rating</th>\n",
       "      <th>timestamp</th>\n",
       "    </tr>\n",
       "  </thead>\n",
       "  <tbody>\n",
       "    <tr>\n",
       "      <th>count</th>\n",
       "      <td>100836.000000</td>\n",
       "      <td>100836.000000</td>\n",
       "      <td>100836.000000</td>\n",
       "      <td>1.008360e+05</td>\n",
       "    </tr>\n",
       "    <tr>\n",
       "      <th>mean</th>\n",
       "      <td>326.127564</td>\n",
       "      <td>19435.295718</td>\n",
       "      <td>3.501557</td>\n",
       "      <td>1.205946e+09</td>\n",
       "    </tr>\n",
       "    <tr>\n",
       "      <th>std</th>\n",
       "      <td>182.618491</td>\n",
       "      <td>35530.987199</td>\n",
       "      <td>1.042529</td>\n",
       "      <td>2.162610e+08</td>\n",
       "    </tr>\n",
       "    <tr>\n",
       "      <th>min</th>\n",
       "      <td>1.000000</td>\n",
       "      <td>1.000000</td>\n",
       "      <td>0.500000</td>\n",
       "      <td>8.281246e+08</td>\n",
       "    </tr>\n",
       "    <tr>\n",
       "      <th>25%</th>\n",
       "      <td>177.000000</td>\n",
       "      <td>1199.000000</td>\n",
       "      <td>3.000000</td>\n",
       "      <td>1.019124e+09</td>\n",
       "    </tr>\n",
       "    <tr>\n",
       "      <th>50%</th>\n",
       "      <td>325.000000</td>\n",
       "      <td>2991.000000</td>\n",
       "      <td>3.500000</td>\n",
       "      <td>1.186087e+09</td>\n",
       "    </tr>\n",
       "    <tr>\n",
       "      <th>75%</th>\n",
       "      <td>477.000000</td>\n",
       "      <td>8122.000000</td>\n",
       "      <td>4.000000</td>\n",
       "      <td>1.435994e+09</td>\n",
       "    </tr>\n",
       "    <tr>\n",
       "      <th>max</th>\n",
       "      <td>610.000000</td>\n",
       "      <td>193609.000000</td>\n",
       "      <td>5.000000</td>\n",
       "      <td>1.537799e+09</td>\n",
       "    </tr>\n",
       "  </tbody>\n",
       "</table>\n",
       "</div>"
      ],
      "text/plain": [
       "              userId        movieId         rating     timestamp\n",
       "count  100836.000000  100836.000000  100836.000000  1.008360e+05\n",
       "mean      326.127564   19435.295718       3.501557  1.205946e+09\n",
       "std       182.618491   35530.987199       1.042529  2.162610e+08\n",
       "min         1.000000       1.000000       0.500000  8.281246e+08\n",
       "25%       177.000000    1199.000000       3.000000  1.019124e+09\n",
       "50%       325.000000    2991.000000       3.500000  1.186087e+09\n",
       "75%       477.000000    8122.000000       4.000000  1.435994e+09\n",
       "max       610.000000  193609.000000       5.000000  1.537799e+09"
      ]
     },
     "execution_count": 268,
     "metadata": {},
     "output_type": "execute_result"
    }
   ],
   "source": [
    "# check description of data\n",
    "df.describe()"
   ]
  },
  {
   "cell_type": "code",
   "execution_count": 269,
   "id": "3a808d7c-b6dd-465a-9bf4-c5fd50ae9b2c",
   "metadata": {},
   "outputs": [
    {
     "name": "stdout",
     "output_type": "stream",
     "text": [
      "Mode of rating: 0    4.0\n",
      "dtype: float64\n",
      "Mean of rating: 3.501556983616962\n",
      "Median of rating: 3.5\n"
     ]
    }
   ],
   "source": [
    "# Mean, Median and Mode of the ratings in the df_ratings\n",
    "print(f\"Mode of rating: {df['rating'].mode()}\")\n",
    "print(f\"Mean of rating: {df['rating'].mean()}\")\n",
    "print(f\"Median of rating: {df['rating'].median()}\")"
   ]
  },
  {
   "cell_type": "markdown",
   "id": "980ba738-1d44-43a2-91a6-07112ad54e87",
   "metadata": {},
   "source": [
    "### 2.2. Missing values and data types"
   ]
  },
  {
   "cell_type": "code",
   "execution_count": 270,
   "id": "7c406bac-2783-4da8-a727-67717b403a23",
   "metadata": {},
   "outputs": [
    {
     "name": "stdout",
     "output_type": "stream",
     "text": [
      "<class 'pandas.core.frame.DataFrame'>\n",
      "Int64Index: 100836 entries, 0 to 100835\n",
      "Data columns (total 6 columns):\n",
      " #   Column     Non-Null Count   Dtype  \n",
      "---  ------     --------------   -----  \n",
      " 0   userId     100836 non-null  int64  \n",
      " 1   movieId    100836 non-null  int64  \n",
      " 2   rating     100836 non-null  float64\n",
      " 3   timestamp  100836 non-null  int64  \n",
      " 4   title      100836 non-null  object \n",
      " 5   genres     100836 non-null  object \n",
      "dtypes: float64(1), int64(3), object(2)\n",
      "memory usage: 5.4+ MB\n"
     ]
    }
   ],
   "source": [
    "#check datatypes and null values \n",
    "df.info()"
   ]
  },
  {
   "cell_type": "markdown",
   "id": "a152eee1-e5f2-4b25-93ca-45be05d49b78",
   "metadata": {},
   "source": [
    "* There are no missing values in the dataset"
   ]
  },
  {
   "cell_type": "code",
   "execution_count": 271,
   "id": "db19c951-63ac-4fbe-9fea-ae49bf802c4d",
   "metadata": {},
   "outputs": [
    {
     "name": "stdout",
     "output_type": "stream",
     "text": [
      "Number of duplicates in the dataset:  0\n"
     ]
    }
   ],
   "source": [
    "#check duplicates in the dataset\n",
    "print(f\"Number of duplicates in the dataset:  {df.duplicated().sum()}\")"
   ]
  },
  {
   "cell_type": "markdown",
   "id": "b6e86c3c-1ad1-4f41-8b74-5d01af627f7d",
   "metadata": {},
   "source": [
    "## 3. Exploratory Data Analysis"
   ]
  },
  {
   "cell_type": "markdown",
   "id": "9ecf0775-1238-46c4-9984-a34507e6427a",
   "metadata": {},
   "source": [
    "### 3.1. Nmber of Movies, Ratings and Users"
   ]
  },
  {
   "cell_type": "markdown",
   "id": "9f599c20-cd74-401c-9316-eac81c5124e7",
   "metadata": {},
   "source": [
    "* Number of movies, ratings and users in the datasets\n",
    "* Average number of ratings per user\n",
    "* Average number of ratings per movie"
   ]
  },
  {
   "cell_type": "code",
   "execution_count": 272,
   "id": "941e36f1-f3ae-4e3d-a44f-d55fee2b7b2b",
   "metadata": {},
   "outputs": [
    {
     "name": "stdout",
     "output_type": "stream",
     "text": [
      "Number of ratings: 100836\n",
      "Number of movies: 9724\n",
      "Number of users: 610\n",
      "\n",
      "Average number of ratings per user: 165.3\n",
      "Average number of ratings per movie: 10.37\n"
     ]
    }
   ],
   "source": [
    "#number of ratings of movies \n",
    "n_ratings = len(df_ratings) \n",
    "# number of movies \n",
    "n_movies = df_ratings['movieId'].nunique()\n",
    "# number of users \n",
    "n_users = df_ratings['userId'].nunique() \n",
    "\n",
    "print(f\"Number of ratings: {n_ratings}\")\n",
    "print(f\"Number of movies: {n_movies}\") \n",
    "print(f\"Number of users: {n_users}\") \n",
    "print()\n",
    "# Average number of ratings per user & per movie\n",
    "print(f\"Average number of ratings per user: {round(n_ratings/n_users, 2)}\") \n",
    "print(f\"Average number of ratings per movie: {round(n_ratings/n_movies, 2)}\")"
   ]
  },
  {
   "cell_type": "markdown",
   "id": "99c998d8-e10c-4531-973b-abb856a2cda6",
   "metadata": {},
   "source": [
    "### 3.2. Distribusion of movie ratings"
   ]
  },
  {
   "cell_type": "code",
   "execution_count": 273,
   "id": "e4ff070b-2f01-47d6-beba-b6246c4f1b71",
   "metadata": {},
   "outputs": [
    {
     "data": {
      "image/png": "[encoded data removed]",
      "text/plain": [
       "<Figure size 432x288 with 1 Axes>"
      ]
     },
     "metadata": {
      "needs_background": "light"
     },
     "output_type": "display_data"
    }
   ],
   "source": [
    "# plot bar graph to show distribution of movie ratings\n",
    "sns.countplot(x='rating', data=df_ratings) \n",
    "plt.title(\"Distribution  of movie ratings\") \n",
    "plt.show()"
   ]
  },
  {
   "cell_type": "markdown",
   "id": "f3a5ed98-4e8a-4aee-847e-b2ed63b56830",
   "metadata": {},
   "source": [
    "* Rating = 4 is the most frequent rating"
   ]
  },
  {
   "cell_type": "code",
   "execution_count": 274,
   "id": "25f9666e-42fe-45a4-bffa-af0bcf34bd6e",
   "metadata": {},
   "outputs": [
    {
     "name": "stdout",
     "output_type": "stream",
     "text": [
      "Mean of ratings: 3.5\n"
     ]
    }
   ],
   "source": [
    "print(f\"Mean of ratings: {round(df_ratings['rating'].mean(), 2)}\")"
   ]
  },
  {
   "cell_type": "markdown",
   "id": "f83ee53c-cd23-4a88-8627-fa6e23b67590",
   "metadata": {},
   "source": [
    "### 3.3. Movies most frequently rated"
   ]
  },
  {
   "cell_type": "code",
   "execution_count": 275,
   "id": "5401592f-3ce4-4ade-b0b6-232df2ae2fe2",
   "metadata": {},
   "outputs": [
    {
     "data": {
      "text/plain": [
       "Forrest Gump (1994)                 329\n",
       "Shawshank Redemption, The (1994)    317\n",
       "Pulp Fiction (1994)                 307\n",
       "Silence of the Lambs, The (1991)    279\n",
       "Matrix, The (1999)                  278\n",
       "Name: title, dtype: int64"
      ]
     },
     "execution_count": 275,
     "metadata": {},
     "output_type": "execute_result"
    }
   ],
   "source": [
    "# most frequently rated movies in the dataset \n",
    "# Value_count the movie titles and take top 5\n",
    "top_movie_ratings = df['title'].value_counts()[0:5] \n",
    "top_movie_ratings"
   ]
  },
  {
   "cell_type": "markdown",
   "id": "e328039f-49ef-44b7-988b-e4be2080fe2e",
   "metadata": {},
   "source": [
    "### 3.4. Genre Distribution"
   ]
  },
  {
   "cell_type": "markdown",
   "id": "e99dd0a4-87db-4baf-861c-e671f61e56bf",
   "metadata": {},
   "source": [
    "* Observe the distribution of the genres in the dataset"
   ]
  },
  {
   "cell_type": "code",
   "execution_count": 276,
   "id": "649f43ab-f805-49a6-a440-465ea9d9fe74",
   "metadata": {},
   "outputs": [
    {
     "data": {
      "image/png": "[encoded data removed]",
      "text/plain": [
       "<Figure size 864x432 with 1 Axes>"
      ]
     },
     "metadata": {
      "needs_background": "light"
     },
     "output_type": "display_data"
    }
   ],
   "source": [
    "# Split genres and explode into individual rows\n",
    "genre_split = df_movies['genres'].str.split('|')\n",
    "movies_genre = df_movies.copy()\n",
    "movies_genre['genres'] = genre_split\n",
    "# use explode function to unpack list of genres and each item into its own row \n",
    "movies_genre = movies_genre.explode('genres')\n",
    "\n",
    "# Count genres\n",
    "genre_counts = movies_genre['genres'].value_counts()\n",
    "\n",
    "# Plot genre distribution\n",
    "plt.figure(figsize=(12, 6))\n",
    "genre_counts.plot(kind='bar', color='skyblue')\n",
    "plt.title('Movie Genre Distribution')\n",
    "plt.xlabel('Genre')\n",
    "plt.ylabel('Number of Movies')\n",
    "plt.xticks(rotation=45)\n",
    "plt.tight_layout()\n",
    "plt.show()"
   ]
  },
  {
   "cell_type": "markdown",
   "id": "33645386-962b-4e43-a780-c81ac5fc3097",
   "metadata": {},
   "source": [
    "## 4.  Modeling "
   ]
  },
  {
   "cell_type": "markdown",
   "id": "bad71d5c-aacd-418b-8086-a4c4927da314",
   "metadata": {},
   "source": [
    "## 4.1. Model for Collaborative Filtering \n",
    "* Recommend movies using collaborative filtering\n",
    "* This model recommends movies for a user based on user ratings of other movies and other similar uers' ratings"
   ]
  },
  {
   "cell_type": "code",
   "execution_count": 277,
   "id": "1f8ac5ee-d94c-4217-afd4-e1d78ed312d6",
   "metadata": {},
   "outputs": [],
   "source": [
    "# Prepare dataset for Surprise\n",
    "reader = Reader(rating_scale=(0.5, 5))\n",
    "data = Dataset.load_from_df(df_ratings[['userId', 'movieId', 'rating']], reader)\n",
    "#trainset = data.build_full_trainset() "
   ]
  },
  {
   "cell_type": "code",
   "execution_count": 278,
   "id": "aeee2206-01b4-473b-950d-d6d704d72129",
   "metadata": {},
   "outputs": [
    {
     "data": {
      "text/plain": [
       "<surprise.prediction_algorithms.matrix_factorization.SVD at 0x2044f40eb20>"
      ]
     },
     "execution_count": 278,
     "metadata": {},
     "output_type": "execute_result"
    }
   ],
   "source": [
    "#Random Split of the dataset to trainset and testset \n",
    "trainset, testset = surprise_split(data, test_size=0.2)\n",
    "\n",
    "# Train SVD model\n",
    "svd_model = SVD()\n",
    "svd_model.fit(trainset)"
   ]
  },
  {
   "cell_type": "markdown",
   "id": "710aef3a-647b-46b3-a8e6-e796f862804a",
   "metadata": {},
   "source": [
    "### 4.1.1. Recommendation of top 5 movies for a user"
   ]
  },
  {
   "cell_type": "code",
   "execution_count": 279,
   "id": "b50747df-1bc7-4f44-87a0-ef623aa0f0d5",
   "metadata": {},
   "outputs": [
    {
     "name": "stdout",
     "output_type": "stream",
     "text": [
      "                                                title  \\\n",
      "924   Grand Day Out with Wallace and Gromit, A (1989)   \n",
      "6772                                    WALL·E (2008)   \n",
      "6710                          Dark Knight, The (2008)   \n",
      "7802                              Intouchables (2011)   \n",
      "1883                              Office Space (1999)   \n",
      "\n",
      "                                           genres  \n",
      "924    Adventure|Animation|Children|Comedy|Sci-Fi  \n",
      "6772  Adventure|Animation|Children|Romance|Sci-Fi  \n",
      "6710                      Action|Crime|Drama|IMAX  \n",
      "7802                                 Comedy|Drama  \n",
      "1883                                 Comedy|Crime  \n"
     ]
    }
   ],
   "source": [
    "# function for recommendation of top 5 movies for a user using the trained model\n",
    "\n",
    "def get_cf_recommendations(userId, num_recommendations=5):\n",
    "    #predict ratings by a user for movies\n",
    "    predictions = [svd_model.predict(userId, movieId).est for movieId in df_movies[\"movieId\"]]\n",
    "    df_movies[\"predicted_rating\"] = predictions\n",
    "    recommendations = df_movies.sort_values(\"predicted_rating\", ascending=False).head(num_recommendations)\n",
    "    return recommendations[[\"title\", \"genres\"]]\n",
    " \n",
    "# print recommended movies for a user as an example of model usage\n",
    "print(get_cf_recommendations(userId=10))"
   ]
  },
  {
   "cell_type": "markdown",
   "id": "d5375906-b875-49a2-95fd-b2bb85cc65d4",
   "metadata": {},
   "source": [
    "* Above is a recommendation of top 5 movies for userId = 10, as an example"
   ]
  },
  {
   "cell_type": "markdown",
   "id": "c58e5486-07ba-4988-9f02-7699a77cce85",
   "metadata": {},
   "source": [
    "## 4.2. Model for Content-Based Filtering"
   ]
  },
  {
   "cell_type": "markdown",
   "id": "3088ad2f-6ab2-4381-adf8-b7e0249e78d5",
   "metadata": {},
   "source": [
    "* To recommend similar movies for a new user based on the genre of a movie watched \n",
    "* This model adresses **cold start**, when user has not rated movies yet"
   ]
  },
  {
   "cell_type": "code",
   "execution_count": 280,
   "id": "c6550ea4-264b-4fa9-a47a-e7e434b65c04",
   "metadata": {},
   "outputs": [],
   "source": [
    "# for this we use the merged df\n",
    "# we split the dataset into train/test sets\n",
    "train_df, test_df = train_test_split(df, test_size=0.2, random_state=42)"
   ]
  },
  {
   "cell_type": "code",
   "execution_count": 281,
   "id": "cebc55f0-0e60-4219-a763-4ceffcb96489",
   "metadata": {},
   "outputs": [],
   "source": [
    "# We build the TF-IDF using only the train set\n",
    "# Convert the genres into TF-IDF features\n",
    "\n",
    "tfidf = TfidfVectorizer(stop_words=\"english\")\n",
    "tfidf_matrix = tfidf.fit_transform(train_df[\"genres\"]) \n",
    "\n",
    "# Store movie indices\n",
    "movie_indices = pd.Series(train_df.drop_duplicates(\"movieId\").index,\n",
    "                          index=train_df.drop_duplicates(\"movieId\")[\"title\"]).drop_duplicates()"
   ]
  },
  {
   "cell_type": "code",
   "execution_count": 282,
   "id": "4027edc8-16bb-44fd-b96d-a01371d1863c",
   "metadata": {},
   "outputs": [
    {
     "name": "stdout",
     "output_type": "stream",
     "text": [
      "                               title               genres\n",
      "33           Dead Man Walking (1995)          Crime|Drama\n",
      "36   Cry, the Beloved Country (1995)                Drama\n",
      "128            Beyond Rangoon (1995)  Adventure|Drama|War\n",
      "160                  Reckless (1995)       Comedy|Fantasy\n",
      "236          Man of the House (1995)               Comedy\n"
     ]
    }
   ],
   "source": [
    "#define a function that takes in a movie title as an input to return 5 similar movies\n",
    "def get_cbf_recommendations(title, num_recommendations=5):\n",
    "    \n",
    "    # map movie title to its row index\n",
    "    idx = movie_indices[title] \n",
    "    \n",
    "    # plug idx into similarity matrix\n",
    "    # Cosine similarity measures how similar two vectors are\n",
    "    #Calculate scores between the TF-IDF vector of chosen movie (tfidf_matrix[idx]) \n",
    "    #and all other movies in the matrix.\n",
    "    sim_scores = list(enumerate(cosine_similarity(tfidf_matrix[idx], tfidf_matrix)[0]))\n",
    "    \n",
    "    #sort the similarity scores in descending order (most similar first).\n",
    "    #skip index 0(that's the movie itself) and take the next best matches.\n",
    "    sim_scores = sorted(sim_scores, key=lambda x: x[1], reverse=True)[1:num_recommendations+1]\n",
    "    \n",
    "    # extract the row indices of those top similar movies\n",
    "    movie_ids = [i[0] for i in sim_scores]\n",
    "    \n",
    "    #return the title and genre of the top similar movies\n",
    "    return df_movies.iloc[movie_ids][[\"title\", \"genres\"]]\n",
    "# Example Usage\n",
    "print(get_cbf_recommendations(\"Toy Story (1995)\"))"
   ]
  },
  {
   "cell_type": "markdown",
   "id": "b0f44eea-0be5-451c-b24f-b25b5d0de2d1",
   "metadata": {},
   "source": [
    "* Above is a recommendation of top 5 movies for a user who liked \"Toy Story (1995)\" userId as an example."
   ]
  },
  {
   "cell_type": "markdown",
   "id": "c037414a-80c9-4537-bbd8-7187edc409cd",
   "metadata": {},
   "source": [
    "## 4.3. Hybrid CF-CBF Recommendation Model "
   ]
  },
  {
   "cell_type": "markdown",
   "id": "844295f0-81a6-4aff-bf60-730ef8b9ede5",
   "metadata": {},
   "source": [
    "* This recommender system combines CF and CBf models\n",
    "* Can handel cold start"
   ]
  },
  {
   "cell_type": "markdown",
   "id": "05ef247e-0972-4964-828d-5848df8ee8d1",
   "metadata": {},
   "source": [
    "This recommender will: \n",
    "* Normalizes CF and CBF scores for a common scale \n",
    "* Blend the two models using a weighting factor alpha(e.g., 0.5) \n",
    "* Sort and return top 5 movie recommendations "
   ]
  },
  {
   "cell_type": "code",
   "execution_count": 283,
   "id": "a2f06eff-8a5c-407d-ae47-1c0c5be97063",
   "metadata": {},
   "outputs": [],
   "source": [
    "# modify get_cf_recommendations() to return movieId and cf_rating\n",
    "# num_recommendations for both cf and Cbf is increased to 100 to blend broader set\n",
    "# of candidate movies(overlap) to only return top 5\n",
    "def get_cf_recommendations(user_id, num_recommendations=100):\n",
    "    predictions = [svd_model.predict(user_id, movieId).est for movieId in df_movies[\"movieId\"]]\n",
    "    # new column cf_score to the df_movies containing predictions.\n",
    "    df_movies[\"cf_score\"] = predictions \n",
    "    # returns only movieID and cf_score to be merged later \n",
    "    return df_movies[[\"movieId\", \"cf_score\"]]\n"
   ]
  },
  {
   "cell_type": "code",
   "execution_count": 284,
   "id": "44538726-4ba5-4604-8eaa-d8f17b7dc8ce",
   "metadata": {},
   "outputs": [],
   "source": [
    "# modify gget_cbf_recommendations() to return movieId and score\n",
    "def get_cbf_recommendations(title, num_recommendations=100):\n",
    "    \n",
    "    # retrive the row index in TF_IDF matrix for a given movie(title)\n",
    "    idx = movie_indices[title] \n",
    "\n",
    "    # calculate cosine similarity between the given movie and all others \n",
    "    sim_scores = list(enumerate(cosine_similarity(tfidf_matrix[idx], tfidf_matrix)[0]))\n",
    "\n",
    "    # sort movies by similarity score (excluding the first one(the movie itself))\n",
    "    sim_scores = sorted(sim_scores, key=lambda x: x[1], reverse=True)[1:num_recommendations+1]\n",
    "    \n",
    "    # loops through each tuple in sim_scorestake the first element of the tuple, \n",
    "    # which is the index of the movie in the TF-IDF matrix.\n",
    "    movie_ids = [i[0] for i in sim_scores]\n",
    "\n",
    "    # extracts the second element of each tuple-similarity score\n",
    "    scores = [i[1] for i in sim_scores]\n",
    "\n",
    "    # select rows by their integer location using .iloc[].\n",
    "    cbf_results = df_movies.iloc[movie_ids].copy() \n",
    "\n",
    "    # add a new column called \"cbf_score\" to cbf_result assigning score\n",
    "    cbf_results[\"cbf_score\"] = scores\n",
    "\n",
    "    # return the the movieId and cbf_score\n",
    "    return cbf_results[[\"movieId\", \"cbf_score\"]]"
   ]
  },
  {
   "cell_type": "code",
   "execution_count": 285,
   "id": "12da923f-54b9-44f7-ba88-2a0cee855dd6",
   "metadata": {},
   "outputs": [],
   "source": [
    "def get_hybrid_recommendations(user_id, title, k=5, alpha=0.5):\n",
    "    # call CF function, with userId input predict 200 most similar movies by rating \n",
    "    cf_df = get_cf_recommendations(user_id, num_recommendations=200)\n",
    "    \n",
    "    # call CBF function, with title input find 200 similar movies by genre\n",
    "    cbf_df = get_cbf_recommendations(title, num_recommendations=200)\n",
    "\n",
    "    # merge on cf_df and cbf_df\n",
    "    merged = pd.merge(cf_df, cbf_df, on=\"movieId\", how=\"outer\").fillna(0)\n",
    "\n",
    "    # new cloumn for hybrid_score _ with weighted sum, alpha=0.5,\n",
    "    # equal weight for both scores\n",
    "    merged[\"hybrid_score\"] = alpha * merged[\"cf_score\"] + (1 - alpha) * merged[\"cbf_score\"]\n",
    "\n",
    "    # Join with df_movies with df_movies on \"movieId\"\n",
    "    merged = pd.merge(merged, df_movies, on=\"movieId\")\n",
    "\n",
    "    # Sort and return top k(5) movies\n",
    "    top_recommendations = merged.sort_values(\"hybrid_score\", ascending=False).head(k)\n",
    "    return top_recommendations[[\"title\", \"genres\"]]"
   ]
  },
  {
   "cell_type": "code",
   "execution_count": 286,
   "id": "8b5c0e6f-ff75-48f7-a022-aef9107bfc24",
   "metadata": {},
   "outputs": [
    {
     "name": "stdout",
     "output_type": "stream",
     "text": [
      "                           title           genres\n",
      "4308       Mighty Wind, A (2003)   Comedy|Musical\n",
      "8290   Dallas Buyers Club (2013)            Drama\n",
      "6172  Akeelah and the Bee (2006)            Drama\n",
      "3640    Beautiful Mind, A (2001)    Drama|Romance\n",
      "2110   Christmas Story, A (1983)  Children|Comedy\n"
     ]
    }
   ],
   "source": [
    "print(get_hybrid_recommendations(user_id=10, title=\"Toy Story (1995)\", k=5, alpha=0.6))\n"
   ]
  },
  {
   "cell_type": "markdown",
   "id": "c17580e2-035a-498d-8041-67ace5277d37",
   "metadata": {},
   "source": [
    "## 5. Evaluation"
   ]
  },
  {
   "cell_type": "markdown",
   "id": "33fc1e31-fd40-4ab8-aac4-1fda0e662bdc",
   "metadata": {},
   "source": [
    "### 5.1. Evaluation of CF Model on testset"
   ]
  },
  {
   "cell_type": "markdown",
   "id": "2d907e1c-fe8f-4e8b-997d-d71cde7204dc",
   "metadata": {},
   "source": [
    "* **Performance metric** Root Mean Square Error **(RMSE)** is used to evaluate the accuracy of the model\n",
    "* It evaluates the model's predicted ratings versus the actual ratings in the test set"
   ]
  },
  {
   "cell_type": "code",
   "execution_count": 287,
   "id": "f98777cb-235a-42f5-93c9-976be8ab0cf0",
   "metadata": {},
   "outputs": [
    {
     "name": "stdout",
     "output_type": "stream",
     "text": [
      "user: 182        item: 4848       r_ui = 5.00   est = 3.91   {'was_impossible': False}\n",
      "user: 546        item: 2533       r_ui = 2.00   est = 3.51   {'was_impossible': False}\n",
      "user: 177        item: 260        r_ui = 2.50   est = 3.79   {'was_impossible': False}\n",
      "RMSE: 0.8779\n",
      "RMSE: 0.8778935918013795\n"
     ]
    }
   ],
   "source": [
    "# Predict on testset\n",
    "predictions_test = svd_model.test(testset) \n",
    "\n",
    "for pred in predictions_test[:3]: \n",
    "    print(pred)\n",
    "\n",
    "print(\"RMSE:\", accuracy.rmse(predictions_test))"
   ]
  },
  {
   "cell_type": "markdown",
   "id": "5d9ecc6a-685f-4bb8-8388-1e2f486619e0",
   "metadata": {},
   "source": [
    "* svd_model prediction object include: **user ID**, the **item (movie) ID**, **r_ui**(the true rating if known (otherwise None)), **est**(the model's estimated rating) and details: any additional metadata (like confidence)"
   ]
  },
  {
   "cell_type": "markdown",
   "id": "124db1d0-9179-4f0f-81b2-e2f8923e9813",
   "metadata": {},
   "source": [
    "* A value of about 0.88 of **RMSE** shows that the model deviated by about 0.87 ratings \n",
    "from the actual ratings on a 0.5 - 5.0 ratings\n",
    "* It is below 1.0 and can be considered good model performance"
   ]
  },
  {
   "cell_type": "markdown",
   "id": "4aa6816e-44d4-439d-b0e2-ceb77c6a1045",
   "metadata": {},
   "source": [
    "## 6. Conclusions \n",
    "* We implemented Collaborative Filtering(CF) using SVD from the Suprise library. It performs better for active users.\n",
    "* Evaluation matrix RMSE = 0.88 for Collaborative Filtering is achieved. This is acceptable for rating prediction.\n",
    "* Collaborative Filtering is ideal for personalized recommendations once the user has rated many items/movies.\n",
    "* We used TF-IDf vectorization of genre for Content-Based Filtering(CBF) to recommend top N unseen movies for all users, addresses cold-start users.\n",
    "* Hybrid model improves recommendation by combining the two models\n",
    " "
   ]
  },
  {
   "cell_type": "markdown",
   "id": "77209c10-6a6a-466e-ae8f-e54b517c1ee7",
   "metadata": {},
   "source": [
    "## 7. Recommendations \n",
    "* Hyperparameter tuning for CF to improve RMSE \n",
    "* To include more features such as movie description for TF-IDf to improve the model.\n",
    "* Optimize the SVD model by using different similarity measures\n",
    "* Optimaize alpha to balace the right weight of CF and CBF"
   ]
  },
  {
   "cell_type": "code",
   "execution_count": null,
   "id": "05d5cb20-8e1b-4696-a3ea-fb7c9a1b4eeb",
   "metadata": {},
   "outputs": [],
   "source": []
  },
  {
   "cell_type": "code",
   "execution_count": null,
   "id": "b0828f80-8b3a-433b-9f7b-f4ce6cfcd93a",
   "metadata": {},
   "outputs": [],
   "source": []
  }
 ],
 "metadata": {
  "kernelspec": {
   "display_name": "Python (learn-env)",
   "language": "python",
   "name": "learn-env"
  },
  "language_info": {
   "codemirror_mode": {
    "name": "ipython",
    "version": 3
   },
   "file_extension": ".py",
   "mimetype": "text/x-python",
   "name": "python",
   "nbconvert_exporter": "python",
   "pygments_lexer": "ipython3",
   "version": "3.8.5"
  }
 },
 "nbformat": 4,
 "nbformat_minor": 5
}
